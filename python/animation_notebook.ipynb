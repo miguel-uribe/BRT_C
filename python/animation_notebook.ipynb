{
 "cells": [
  {
   "cell_type": "code",
   "execution_count": 1,
   "id": "6c977332",
   "metadata": {},
   "outputs": [],
   "source": [
    "import numpy as np\n",
    "busdata = np.loadtxt('../cpp/sim_results_new/sim_results_C2_1_3_1_3_2_2_3_1_80_280_440_120_520_520_200_640_100_1000000_40000_1000_10_anim.txt')\n"
   ]
  },
  {
   "cell_type": "code",
   "execution_count": 4,
   "id": "49b62615",
   "metadata": {},
   "outputs": [
    {
     "data": {
      "text/html": [
       "<div id=\"glowscript\" class=\"glowscript\"></div>"
      ],
      "text/plain": [
       "<IPython.core.display.HTML object>"
      ]
     },
     "metadata": {},
     "output_type": "display_data"
    },
    {
     "data": {
      "application/javascript": [
       "if (typeof Jupyter !== \"undefined\") { window.__context = { glowscript_container: $(\"#glowscript\").removeAttr(\"id\")};}else{ element.textContent = ' ';}"
      ],
      "text/plain": [
       "<IPython.core.display.Javascript object>"
      ]
     },
     "metadata": {},
     "output_type": "display_data"
    }
   ],
   "source": [
    "import numpy as np\n",
    "from vpython import*\n",
    "scene = canvas() # This is needed in Jupyter notebook and lab to make programs easily rerunnable\n",
    "\n",
    "Db = 10\n",
    "Dy = 1\n",
    "DS = 235\n",
    "Nw = 3\n",
    "Ds = 30\n",
    "Dw = 15\n",
    "gap=(DS-(Nw-1)*Ds-Dw)/2.0\n",
    "NStations = 25\n",
    "\n",
    "ycenter = 16*DS+gap\n",
    "scene.width = 800\n",
    "scene.height = 400\n",
    "scene.range = 200\n",
    "scene.center = vector(ycenter,0,0)\n",
    "scene.background = color.green\n",
    "scene.ambient = color.gray(0.4)\n",
    "scene.forward = vector(0,0,-1)\n",
    "\n",
    "\n",
    "\n",
    "\n",
    "stationElements = []\n",
    "\n",
    "for i in range(NStations):\n",
    "    x = gap + i*DS\n",
    "    posst=vector(x+0.5*DS,-11,-1)\n",
    "    stationElements.append(box(pos=posst, length=DS, width=1,height=5, color=color.gray(0.8) ))\n",
    "    posst=vector(x+0.5*DS,11,-1)\n",
    "    stationElements.append(box(pos=posst, length=DS, width=1,height=5, color=color.gray(0.8) ))\n",
    "    for j in range(Nw):\n",
    "        posv=vector(x+0.5*Dw+j*(Ds),0,0)\n",
    "        stationElements.append(box(pos=posv, length=Dw, width=10,height=10, color=color.blue))\n",
    "        posst=vector(x+Dw+j*(Ds),-8,-1)\n",
    "        stationElements.append(box(pos=posst, length=3*Dw, width=1,height=10, color=color.gray(0.8) ))\n",
    "        posst=vector(x+Dw+j*(Ds),8,-1)\n",
    "        stationElements.append(box(pos=posst, length=3*Dw, width=1,height=10, color=color.gray(0.8) ))\n",
    "        if j+1<Nw:\n",
    "            posv=vector(x+Dw+0.5*(Ds-Dw)+j*(Ds),0,0)\n",
    "            stationElements.append(box(pos=posv, length=Dw, width=1,height=6, color=color.blue))\n",
    "        if j==0:\n",
    "            posst=vector(x-0.5*Dw,-8,-1)\n",
    "            stationElements.append(box(pos=posst, length=Dw, width=1,height=10, color=color.gray(0.8)))\n",
    "            posst=vector(x-0.5*Dw,8,-1)\n",
    "            stationElements.append(box(pos=posst, length=Dw, width=1,height=10, color=color.gray(0.8)))\n",
    "\n",
    "buses = []\n",
    "for time in range(20000,20500):\n",
    "    rate(50)\n",
    "    del buses\n",
    "        \n",
    "    mask = busdata[:,0]==time\n",
    "    buses = []\n",
    "    for bus in busdata[mask]:\n",
    "        x = bus[1]\n",
    "        y = bus[2]\n",
    "        acc = bus[10]\n",
    "        posbus = vector(x-0.5*Db*acc/abs(acc),2*(2*y-5)*acc-0.5*Dy*acc/abs(acc),0)\n",
    "        buses.append(box(pos=posbus, length=0.95*Db, height=Dy, width=4, color=color.red))"
   ]
  },
  {
   "cell_type": "code",
   "execution_count": 55,
   "id": "137bb0c0",
   "metadata": {},
   "outputs": [],
   "source": [
    "\n",
    "        "
   ]
  }
 ],
 "metadata": {
  "kernelspec": {
   "display_name": "Python 3 (ipykernel)",
   "language": "python",
   "name": "python3"
  },
  "language_info": {
   "codemirror_mode": {
    "name": "ipython",
    "version": 3
   },
   "file_extension": ".py",
   "mimetype": "text/x-python",
   "name": "python",
   "nbconvert_exporter": "python",
   "pygments_lexer": "ipython3",
   "version": "3.11.1"
  }
 },
 "nbformat": 4,
 "nbformat_minor": 5
}
